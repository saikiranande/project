{
 "cells": [
  {
   "cell_type": "code",
   "execution_count": 1,
   "id": "ce3f25d1",
   "metadata": {},
   "outputs": [],
   "source": [
    "class Edyoda:\n",
    "    manager={}\n",
    "#   students={}\n",
    "    def __init__(self):\n",
    "        self.today = 0\n",
    "        self.start = 0\n",
    "        self.end = 0\n",
    "        self.status = 0\n",
    "    def set_name(self,name):\n",
    "        self.name=name\n",
    "    def set_age(self,age):\n",
    "        self.age = age\n",
    "    def set_mobile(self,mobile):\n",
    "        self.mobile=mobile\n",
    "    def set_email(self,email):\n",
    "        self.email=email\n",
    "        \n",
    "    def set_module(self,module):\n",
    "        self.module=module\n",
    "#         self.today=today\n",
    "        self.get_status(module)\n",
    "    def set_live_session(self,livesession):\n",
    "        self.livesession = livesession\n",
    "        self.get_session(livesession)\n",
    "    def set_password(self,password):\n",
    "        self.password=password\n",
    "    def set_gender(self,gender)->str:\n",
    "        self.gender=gender\n",
    "    def get_session(self,livesession):\n",
    "        if self.livesession is True:\n",
    "            self.session = {1:\"python\",2:\"java\"}\n",
    "            print(self.livesession)\n",
    "        else:\n",
    "            print(\"today no session\")\n",
    "    def set_period(self,start,end):\n",
    "        self.startdate = start\n",
    "        self.enddate = end\n",
    "    def set_today(self,today):\n",
    "        self.today=today\n",
    "        self.get_status(today)\n",
    "    def get_status(self,module):\n",
    "        self.start = 0\n",
    "        self.end = 0\n",
    "        self.today = 0\n",
    "        if self.module is True :\n",
    "            if str(self.today)>str(self.end):\n",
    "                self.status = (\"completed\")\n",
    "            elif str(self.today) < str(self.start):\n",
    "                self.status=(\"upcoming\")\n",
    "            else:\n",
    "                self.module =(\"ongoing\")\n",
    "        else:\n",
    "            print(\"no module\")\n",
    "      \n",
    "\n",
    "    def create_student(self):\n",
    "        Edyoda.manager[self.mobile] = {}\n",
    "        Edyoda.manager[self.mobile][self.password] = self\n",
    "    def create_module(self):\n",
    "        Edyoda.manager[self.module] = {}"
   ]
  },
  {
   "cell_type": "code",
   "execution_count": 13,
   "id": "259440b9",
   "metadata": {},
   "outputs": [],
   "source": [
    "student = Edyoda()"
   ]
  },
  {
   "cell_type": "code",
   "execution_count": 14,
   "id": "7b718eb3",
   "metadata": {},
   "outputs": [
    {
     "data": {
      "text/plain": [
       "{'today': 0, 'start': 0, 'end': 0, 'status': 0}"
      ]
     },
     "execution_count": 14,
     "metadata": {},
     "output_type": "execute_result"
    }
   ],
   "source": [
    "student.__dict__"
   ]
  },
  {
   "cell_type": "code",
   "execution_count": 15,
   "id": "25d6f39c",
   "metadata": {},
   "outputs": [
    {
     "name": "stdout",
     "output_type": "stream",
     "text": [
      "are you a manager Yes/NoYes\n",
      "Enter the module nameds\n",
      "no module\n",
      "Enter the livesessionsd\n",
      "today no session\n",
      "Enter start date2\n",
      "Enter tne end date7\n",
      "Enter today4\n",
      "no module\n"
     ]
    }
   ],
   "source": [
    "exit=\"e\"\n",
    "\n",
    "dict1 = {}\n",
    "while exit == \"E\" or exit == \"e\":\n",
    "\n",
    "    manager = input(\"are you a manager Yes/No\")\n",
    "    if manager==\"Yes\":\n",
    "        admin =Edyoda()\n",
    "        admin.set_module(input(\"Enter the module name\"))\n",
    "        admin.set_live_session(input(\"Enter the livesession\"))\n",
    "        admin.set_period(input(\"Enter start date\"),input(\"Enter tne end date\"))\n",
    "        admin.set_today(input(\"Enter today\"))\n",
    "        admin.status\n",
    "        admin.create_module()\n",
    "    exit=(\" \")"
   ]
  },
  {
   "cell_type": "code",
   "execution_count": null,
   "id": "4d8af257",
   "metadata": {},
   "outputs": [
    {
     "name": "stdout",
     "output_type": "stream",
     "text": [
      "are you a manager Yes/NoYes\n"
     ]
    }
   ],
   "source": [
    "exit=\"e\"\n",
    "\n",
    "dict1 = {}\n",
    "while exit == \"E\" or exit == \"e\":\n",
    "\n",
    "    manager = input(\"are you a manager Yes/No\")\n",
    "    if manager==\"Yes\":\n",
    "        student =Edyoda()\n",
    "        student.set_name(input(\"Enter the name of student\"))\n",
    "        student.set_mobile(input(\"Enter the mobile number\"))\n",
    "        student.set_module(input(\"Enter the module name\"))\n",
    "        student.set_live_session(input(\"Enter the livesession\"))\n",
    "        student.set_period(input(\"Enter start date\"),input(\"Enter tne end date\"))\n",
    "        \n",
    "        student.set_today(input(\"Enter today\"))\n",
    "        student.set_gender(input(\"Enter the gender\"))\n",
    "        student.set_email(input(\"Enter the email\"))\n",
    "        student.set_age(input(\"Enter the age\"))\n",
    "        student.set_password(input(\"enter password\")) \n",
    "        student.create_student()\n",
    "        dict1[student.mobile]={}\n",
    "        dict1[student.mobile][student.password]=student.__dict__\n",
    "    exit = input(\"Y/E\")\n",
    "    "
   ]
  },
  {
   "cell_type": "code",
   "execution_count": 9,
   "id": "16087fe9",
   "metadata": {},
   "outputs": [
    {
     "data": {
      "text/plain": [
       "{'123': {'ki': {'name': 'sai',\n",
       "   'mobile': '123',\n",
       "   'module': 'data',\n",
       "   'livesession': 'python',\n",
       "   'session': {1: 'python', 2: 'json'},\n",
       "   'gender': 'm',\n",
       "   'email': 's@',\n",
       "   'age': '23',\n",
       "   'password': 'ki'}}}"
      ]
     },
     "execution_count": 9,
     "metadata": {},
     "output_type": "execute_result"
    }
   ],
   "source": [
    "dict1\n"
   ]
  },
  {
   "cell_type": "code",
   "execution_count": 10,
   "id": "70ad25ec",
   "metadata": {},
   "outputs": [],
   "source": [
    "import json\n",
    "js_obj = json.dumps(dict1,indent=4)"
   ]
  },
  {
   "cell_type": "code",
   "execution_count": 11,
   "id": "126d52a4",
   "metadata": {},
   "outputs": [],
   "source": [
    "with open(\"Edyoda.json\",\"w+\") as fp:\n",
    "    fp.write(js_obj)"
   ]
  },
  {
   "cell_type": "code",
   "execution_count": 12,
   "id": "3ed29bef",
   "metadata": {},
   "outputs": [],
   "source": [
    "with open(\"Edyoda.json\",\"r\") as fp:\n",
    "    js=json.load(fp)"
   ]
  },
  {
   "cell_type": "code",
   "execution_count": 13,
   "id": "d00e52d2",
   "metadata": {},
   "outputs": [
    {
     "name": "stdout",
     "output_type": "stream",
     "text": [
      "{'123': {'ki': {'name': 'sai', 'mobile': '123', 'module': 'data', 'livesession': 'python', 'session': {'1': 'python', '2': 'json'}, 'gender': 'm', 'email': 's@', 'age': '23', 'password': 'ki'}}}\n"
     ]
    }
   ],
   "source": [
    "print(js)"
   ]
  },
  {
   "cell_type": "code",
   "execution_count": 18,
   "id": "d7bb5ffa",
   "metadata": {},
   "outputs": [
    {
     "data": {
      "text/plain": [
       "{}"
      ]
     },
     "execution_count": 18,
     "metadata": {},
     "output_type": "execute_result"
    }
   ],
   "source": [
    "dict1\n"
   ]
  },
  {
   "cell_type": "code",
   "execution_count": 22,
   "id": "b9cb0557",
   "metadata": {},
   "outputs": [
    {
     "data": {
      "text/plain": [
       "'sai'"
      ]
     },
     "execution_count": 22,
     "metadata": {},
     "output_type": "execute_result"
    }
   ],
   "source": [
    "student.manager[\"123\"][\"ki\"].name"
   ]
  },
  {
   "cell_type": "code",
   "execution_count": null,
   "id": "3b5d6ae8",
   "metadata": {},
   "outputs": [],
   "source": []
  },
  {
   "cell_type": "code",
   "execution_count": null,
   "id": "a26287c6",
   "metadata": {},
   "outputs": [
    {
     "name": "stdout",
     "output_type": "stream",
     "text": [
      "1.Manager. \n",
      "2. Student. \n",
      "3. Quit\n",
      " 1\n",
      "1.CRUD in Student.\n",
      "2. CRUD in Modules.\n",
      "3. Eixt2\n",
      "For Modules\n",
      "1. Create.\n",
      "2. Viewall.\u0003. Update.\n",
      "4. Delete.\n",
      "5. Exit 1\n",
      "Enter the module namesa\n",
      "no module\n",
      "Enter the livesessions\n",
      "today no session\n",
      "Enter start date4\n",
      "Enter tne end date7\n",
      "Enter today5\n",
      "no module\n",
      "For Modules\n",
      "1. Create.\n",
      "2. View_All.\u0003. Update.\n",
      "4. Delete.\n",
      "5. Exit 5\n"
     ]
    }
   ],
   "source": [
    "# exit = \"E\"\n",
    "# while exist:\n",
    "import json\n",
    "options = int(input(\"1.Manager. \\n2. Student. \\n3. Quit\\n \"))\n",
    "dict1 = {}\n",
    "with open(\"Edyoda.json\",\"r\") as fp:\n",
    "    dict1 = json.load(fp)\n",
    "while options < 3 and options > 0:\n",
    "    if options == 1:\n",
    "        choice = int(input(\"1.CRUD in Student.\\n2. CRUD in Modules.\\n3. Eixt\"))\n",
    "        while choice < 3 and choice > 0:\n",
    "            if choice == 1:\n",
    "                crud_choice =int(input(\"For Students\\n1. Create.\\n2. View_details.\\n3. Update.\\n4. Delete.\\n5. Exit \")) \n",
    "                while crud_choice < 5  and crud_choice >0:\n",
    "                    if crud_choice == 1:\n",
    "                        student =Edyoda()\n",
    "                        student.set_name(input(\"Enter the name of student\"))\n",
    "                        student.set_mobile(input(\"Enter the mobile number\"))\n",
    "                        student.set_module(input(\"Enter the module name\"))\n",
    "                        student.set_live_session(input(\"Enter the livesession\"))\n",
    "                        student.set_period(input(\"Enter start date\"),input(\"Enter tne end date\"))\n",
    "                        student.set_today(input(\"Enter today\"))\n",
    "                        student.set_gender(input(\"Enter the gender\"))\n",
    "                        student.set_email(input(\"Enter the email\"))\n",
    "                        student.set_age(input(\"Enter the age\"))\n",
    "                        student.set_password(input(\"enter password\")) \n",
    "                        admin.status\n",
    "                        student.create_student()\n",
    "                        dict1[student.mobile]={}\n",
    "                        dict1[student.mobile][student.password]=student.__dict__\n",
    "                    elif crud_choice == 2:\n",
    "                        try:\n",
    "                            mobile_no = input(\"Enter the mobile no: \")\n",
    "                            pasword = list(dict1[mobile_no].keys())[0]\n",
    "                            name = dict1[mobile_no][pasword][\"name\"]\n",
    "                            mobile = dict1[mobile_no][pasword][\"mobile\"]\n",
    "                            module = dict1[mobile_no][pasword][\"module\"]\n",
    "    #                         live_session = list(dict1[mobile_no][pasword][\"live_session\"])\n",
    "                            period = dict1[mobile_no][pasword][\"start\"][\"end\"]\n",
    "                            today=deict1[moblie_no][pasword][\"today\"]\n",
    "                            gender = dict1[mobile_no][pasword][\"gender\"]\n",
    "                            email = dict1[mobile_no][pasword][\"email\"]\n",
    "                            age =dict1[mobile_no][pasword][\"age\"]\n",
    "                            print(\"Name: {}\\nMobile_no: {}\\nModule: {}\\nPeriod : {},{}\\nToday: {} \\nGender: {}\\nEmail: {}\\nAge: {}\\n\".format(name,mobile,module,period,today,gender,email,age))\n",
    "                        except KeyError:\n",
    "                            print(\"the key doesn't exists\")\n",
    "                    elif crud_choice == 3:\n",
    "                        update_value = int(input(\"Enter the value which you want to update: n1. Name\\n2 Module \\n3Email4\"))\n",
    "                        if update_value == 1:\n",
    "                            mobile_no = input(\"Enter the mobile no: \")\n",
    "                            pasword = list(dict1[mobile_no].keys())[0]\n",
    "                            dict1[mobile_no][pasword]['name']=input(\"Enter the name: \")\n",
    "                        elif update_value == 2:\n",
    "                            mobile_no = input(\"Enter the mobile no: \")\n",
    "                            pasword = list(dict1[mobile_no].keys())[0]\n",
    "                            dict1[mobile_no][pasword]['module']=input(\"Enter the modlue name: \")\n",
    "                        elif update_value == 3:\n",
    "                            mobile_no = input(\"Enter the mobile no: \")\n",
    "                            pasword = list(dict1[mobile_no].keys())[0]\n",
    "                            dict1[mobile_no][pasword]['Email']=input(\"Enter the email: \")\n",
    "                            \n",
    "                    elif crud_choice == 4:\n",
    "                        try:\n",
    "                            mobile_no = input(\"Enter the mobile no: \")\n",
    "                            del dict1[mobile_no]\n",
    "                            del Edyoda.manager[mobile_no]\n",
    "                        except KeyError:\n",
    "                            print(\"the key doesn't exists\") \n",
    "                    else:\n",
    "                        break\n",
    "                    \n",
    "            elif choice == 2:\n",
    "                crud_choice =int(input(\"For Modules\\n1. Create.\\n2. Viewall.\\3. Update.\\n4. Delete.\\n5. Exit \")) \n",
    "                while crud_choice < 5  and crud_choice >0:\n",
    "                    if crud_choice == 1:\n",
    "                        admin =Edyoda()\n",
    "                        admin.set_module(input(\"Enter the module name\"))\n",
    "                        admin.set_live_session(input(\"Enter the livesession\"))\n",
    "                        admin.set_period(input(\"Enter start date\"),input(\"Enter tne end date\"))\n",
    "                        admin.set_today(input(\"Enter today\"))\n",
    "                        admin.status\n",
    "                        admin.create_module()\n",
    "                        dict1[admin.module]={}\n",
    "                        \n",
    "                    elif crud_choice == 2:\n",
    "                        \n",
    "                        module_name = intput(\"Enter the module name\")\n",
    "                        \n",
    "#                         live_session = list(dict1[mobile_no][pasword][\"live_session\"])\n",
    "                        module = dict1[module_name][\"module\"]\n",
    "                        period = dict1[module-name][\"start\"][\"end\"]\n",
    "                        today = dict1[module-name][\"today\"]\n",
    "                        print(\"\\nModule: {}\\nPeriod : {},{}\\nToday: {} \\n\".format(module,period,today))\n",
    "                    elif cur_choice == 3:\n",
    "                        update_value = int(input(\"Enter the value which you want to update: n1.Module\\n2 Period \\n3Today\"))\n",
    "                        if update_value == 1:\n",
    "                            module_name = input(\"Enter the module_name: \")\n",
    "                            modules = list(dict1[module].keys())[0]\n",
    "                            dict1[module_name]['module']=input(\"Enter the module: \")\n",
    "                        elif update_value == 2:\n",
    "                            module_name = input(\"Enter the module_name: \")\n",
    "                            period = dict1[module_name][\"start\"][\"end\"]\n",
    "                            dict1[module_name]['Start'][\"End\"]=(input(\"Enter the start \"),input(\"Enter the End date\"))\n",
    "                        elif update_value == 3:\n",
    "                            module_name = input(\"Enter the module_name: \")\n",
    "                            period = dict1[module-name][\"start\"][\"end\"]\n",
    "                            dict1[module_name][\"today\"]=input(\"Enter the today: \")\n",
    "                            \n",
    "                    elif crud_choice == 4:\n",
    "                        module_name = input(\"Enter the module name: \")\n",
    "                        del dict1[module_name]\n",
    "                        del Edyoda.manager[module-name]\n",
    "                    else:\n",
    "                        break\n",
    "                    crud_choice =int(input(\"For Modules\\n1. Create.\\n2. View_All.\\3. Update.\\n4. Delete.\\n5. Exit \"))\n",
    "    elif options ==2:\n",
    "        pass\n",
    "    elif options == 3:\n",
    "        break\n",
    "    else:\n",
    "        prrint(\"Invalid input try again\")\n",
    "        options = input(\"1.Manager. \\n2 Student. \\n3. Quit\\n \")\n",
    "with open(\"Edyoda.json\",\"w\") as fp:\n",
    "    json.dump(dict1,fp,indent=4)"
   ]
  },
  {
   "cell_type": "code",
   "execution_count": null,
   "id": "995f4122",
   "metadata": {},
   "outputs": [],
   "source": []
  },
  {
   "cell_type": "code",
   "execution_count": null,
   "id": "d02067f8",
   "metadata": {},
   "outputs": [],
   "source": []
  },
  {
   "cell_type": "code",
   "execution_count": null,
   "id": "5bb14da7",
   "metadata": {},
   "outputs": [],
   "source": []
  }
 ],
 "metadata": {
  "kernelspec": {
   "display_name": "Python 3 (ipykernel)",
   "language": "python",
   "name": "python3"
  },
  "language_info": {
   "codemirror_mode": {
    "name": "ipython",
    "version": 3
   },
   "file_extension": ".py",
   "mimetype": "text/x-python",
   "name": "python",
   "nbconvert_exporter": "python",
   "pygments_lexer": "ipython3",
   "version": "3.9.7"
  }
 },
 "nbformat": 4,
 "nbformat_minor": 5
}
